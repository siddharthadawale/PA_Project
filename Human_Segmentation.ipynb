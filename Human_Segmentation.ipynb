{
  "nbformat": 4,
  "nbformat_minor": 0,
  "metadata": {
    "colab": {
      "provenance": []
    },
    "kernelspec": {
      "name": "python3",
      "display_name": "Python 3"
    },
    "language_info": {
      "name": "python"
    }
  },
  "cells": [
    {
      "cell_type": "code",
      "source": [
        "import numpy as np\n",
        "import tensorflow as tf\n",
        "from tensorflow.keras import backend as K\n",
        "\n",
        "def iou(y_true, y_pred):\n",
        "    def f(y_true, y_pred):\n",
        "        intersection = (y_true * y_pred).sum()\n",
        "        union = y_true.sum() + y_pred.sum() - intersection\n",
        "        x = (intersection + 1e-15) / (union + 1e-15)\n",
        "        x = x.astype(np.float32)\n",
        "        return x\n",
        "    return tf.numpy_function(f, [y_true, y_pred], tf.float32)\n",
        "\n",
        "smooth = 1e-15\n",
        "def dice_coef(y_true, y_pred):\n",
        "    y_true = tf.keras.layers.Flatten()(y_true)\n",
        "    y_pred = tf.keras.layers.Flatten()(y_pred)\n",
        "    intersection = tf.reduce_sum(y_true * y_pred)\n",
        "    return (2. * intersection + smooth) / (tf.reduce_sum(y_true) + tf.reduce_sum(y_pred) + smooth)\n",
        "\n",
        "def dice_loss(y_true, y_pred):\n",
        "    return 1.0 - dice_coef(y_true, y_pred)"
      ],
      "metadata": {
        "id": "s0QXBSj5mb4P"
      },
      "execution_count": null,
      "outputs": []
    },
    {
      "cell_type": "code",
      "source": [
        "from google.colab import drive\n",
        "drive.mount('/content/drive')"
      ],
      "metadata": {
        "colab": {
          "base_uri": "https://localhost:8080/"
        },
        "id": "62pZDP_tp2vI",
        "outputId": "85f400b9-fb4c-45c2-be00-13608301e90b"
      },
      "execution_count": null,
      "outputs": [
        {
          "output_type": "stream",
          "name": "stdout",
          "text": [
            "Drive already mounted at /content/drive; to attempt to forcibly remount, call drive.mount(\"/content/drive\", force_remount=True).\n"
          ]
        }
      ]
    },
    {
      "cell_type": "code",
      "source": [
        "import os\n",
        "os.environ[\"TF_CPP_MIN_LOG_LEVEL\"] = \"2\"\n",
        "\n",
        "import numpy as np\n",
        "import cv2\n",
        "from glob import glob\n",
        "from tqdm import tqdm\n",
        "import tensorflow as tf\n",
        "from tensorflow.keras.utils import CustomObjectScope\n",
        "#from metrics import dice_loss, dice_coef, iou\n",
        "\n",
        "\"\"\" Global parameters \"\"\"\n",
        "H = 512\n",
        "W = 512\n",
        "\n",
        "\"\"\" Creating a directory \"\"\"\n",
        "def create_dir(path):\n",
        "    if not os.path.exists(path):\n",
        "        os.makedirs(path)\n",
        "\n",
        "if __name__ == \"__main__\":\n",
        "    \"\"\" Seeding \"\"\"\n",
        "    np.random.seed(42)\n",
        "    tf.random.set_seed(42)\n",
        "\n",
        "    \"\"\" Directory for storing files \"\"\"\n",
        "    create_dir(\"remove_bg\")\n",
        "\n",
        "    \"\"\" Loading model: DeepLabV3+ \"\"\"\n",
        "    with CustomObjectScope({'iou': iou, 'dice_coef': dice_coef, 'dice_loss': dice_loss}):\n",
        "        model = tf.keras.models.load_model(\"/content/drive/MyDrive/Colab Notebooks/Data Science/model (2).h5\")\n",
        "\n",
        "    # model.summary()\n",
        "\n",
        "    \"\"\" Load the dataset \"\"\"\n",
        "    data_x = glob(\"/content/Hrithik-Roshan.jpg\")\n",
        "\n",
        "    for path in tqdm(data_x, total=len(data_x)):\n",
        "         \"\"\" Extracting name \"\"\"\n",
        "         name = path.split(\"/\")[-1].split(\".\")[0]\n",
        "\n",
        "         \"\"\" Read the image \"\"\"\n",
        "         image = cv2.imread(path, cv2.IMREAD_COLOR)\n",
        "         h, w, _ = image.shape\n",
        "         x = cv2.resize(image, (W, H))\n",
        "         x = x/255.0\n",
        "         x = x.astype(np.float32)\n",
        "         x = np.expand_dims(x, axis=0)\n",
        "\n",
        "         \"\"\" Prediction \"\"\"\n",
        "         y = model.predict(x)[0]\n",
        "         y = cv2.resize(y, (w, h))\n",
        "         y = np.expand_dims(y, axis=-1)\n",
        "         y = y > 0.5\n",
        "\n",
        "         photo_mask = y\n",
        "         background_mask = np.abs(1-y)\n",
        "\n",
        "         # cv2.imwrite(f\"remove_bg/{name}.png\", photo_mask*255)\n",
        "         # cv2.imwrite(f\"remove_bg/{name}.png\", background_mask*255)\n",
        "\n",
        "         # cv2.imwrite(f\"remove_bg/{name}.png\", image * photo_mask)\n",
        "         # cv2.imwrite(f\"remove_bg/{name}.png\", image * background_mask)\n",
        "\n",
        "         masked_photo = image * photo_mask\n",
        "         background_mask = np.concatenate([background_mask, background_mask, background_mask], axis=-1)\n",
        "         background_mask = background_mask * [0, 0, 255]\n",
        "         final_photo = masked_photo + background_mask\n",
        "         from google.colab.patches import cv2_imshow\n",
        "         cv2_imshow(photo_mask*255)"
      ],
      "metadata": {
        "colab": {
          "base_uri": "https://localhost:8080/",
          "height": 520
        },
        "id": "SCJkCHyQlvwq",
        "outputId": "fd20f18a-7aed-4df1-9d6b-cd9037a4ac79"
      },
      "execution_count": null,
      "outputs": [
        {
          "output_type": "stream",
          "name": "stderr",
          "text": [
            "\r  0%|          | 0/1 [00:00<?, ?it/s]"
          ]
        },
        {
          "output_type": "stream",
          "name": "stdout",
          "text": [
            "1/1 [==============================] - 4s 4s/step\n"
          ]
        },
        {
          "output_type": "display_data",
          "data": {
            "text/plain": [
              "<PIL.Image.Image image mode=RGB size=468x468 at 0x7F949820C2E0>"
            ],
            "image/png": "[encoded data removed]"
          },
          "metadata": {}
        },
        {
          "output_type": "stream",
          "name": "stderr",
          "text": [
            "100%|██████████| 1/1 [00:04<00:00,  4.58s/it]\n"
          ]
        }
      ]
    },
    {
      "cell_type": "code",
      "source": [
        "from google.colab.patches import cv2_imshow\n",
        "cv2_imshow(photo_mask*255)"
      ],
      "metadata": {
        "colab": {
          "base_uri": "https://localhost:8080/",
          "height": 485
        },
        "id": "8Fsb1Ua3svK7",
        "outputId": "ec69a41c-5d05-4e67-8970-5b563512967f"
      },
      "execution_count": null,
      "outputs": [
        {
          "output_type": "display_data",
          "data": {
            "text/plain": [
              "<PIL.Image.Image image mode=RGB size=468x468 at 0x7F948B7DEBE0>"
            ],
            "image/png": "[encoded data removed]"
          },
          "metadata": {}
        }
      ]
    },
    {
      "cell_type": "code",
      "source": [
        "a=background_mask*255"
      ],
      "metadata": {
        "id": "pgNfCgtlt_0F"
      },
      "execution_count": null,
      "outputs": []
    },
    {
      "cell_type": "code",
      "source": [
        "type(a)"
      ],
      "metadata": {
        "colab": {
          "base_uri": "https://localhost:8080/"
        },
        "id": "fhT1g0aguE7M",
        "outputId": "8d7c46f0-afc9-4ec4-80e6-85d4e65e3a89"
      },
      "execution_count": null,
      "outputs": [
        {
          "output_type": "execute_result",
          "data": {
            "text/plain": [
              "numpy.ndarray"
            ]
          },
          "metadata": {},
          "execution_count": 39
        }
      ]
    }
  ]
}